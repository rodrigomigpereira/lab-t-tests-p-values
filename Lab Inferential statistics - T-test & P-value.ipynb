{
 "cells": [
  {
   "cell_type": "code",
   "execution_count": null,
   "metadata": {},
   "outputs": [],
   "source": [
    "## Lab | Inferential statistics - T-test & P-value\n",
    "\n",
    "## Instructions:\n",
    "    ## We will have another simple example on two sample t test (pooled- when the variances are equal). But this time this is a one sided t-test\n",
    "        ## In a packing plant, a machine packs cartons with jars. It is supposed that a new machine will pack faster on the average than the machine currently used. To test that hypothesis, the times it takes each machine to pack ten cartons are recorded. The results, in seconds, are shown in the tables in the file files_for_lab/machine.txt. Assume that there is sufficient evidence to conduct the t test, does the data provide sufficient evidence to show if one machine is better than the other\n",
    "    ## An additional problem (not mandatory): In this case we can't assume that the population variances are equal. Hence in this case we cannot pool the variances. Independent random samples of 17 sophomores and 13 juniors attending a large university yield the following data on grade point averages. Data is provided in the file files_for_lab/student_gpa.txt. At the 5% significance level, do the data provide sufficient evidence to conclude that the mean GPAs of sophomores and juniors at the university differ?\n",
    "        ## Test statistics can be calculated as: link to the image - Test statistics calculation for Unpooled Variance Case\n",
    "        ## Degrees of freedom is (n1-1)+(n2-1)."
   ]
  },
  {
   "cell_type": "code",
   "execution_count": 1,
   "metadata": {},
   "outputs": [
    {
     "data": {
      "text/plain": [
       "(-3.3972307061176026, 18, -0.9231495630900276, 26.631591966307603)"
      ]
     },
     "execution_count": 1,
     "metadata": {},
     "output_type": "execute_result"
    }
   ],
   "source": [
    "# Importing necessary libraries\n",
    "import numpy as np\n",
    "from scipy import stats\n",
    "\n",
    "# Machine time data\n",
    "new_machine = np.array([42.1, 41, 41.3, 41.8, 42.4, 42.8, 43.2, 42.3, 41.8, 42.7])\n",
    "old_machine = np.array([42.7, 43.6, 43.8, 43.3, 42.5, 43.5, 43.1, 41.7, 44, 44.1])\n",
    "\n",
    "# Student GPA data\n",
    "sophomores = np.array([3.04, 1.71, 3.3, 2.88, 2.11, 2.6, 2.92, 3.6, 2.28, 2.82, 3.03, 3.13, 2.86, 3.49, 3.11, 2.13, 3.27])\n",
    "juniors = np.array([2.56, 2.77, 2.7, 3, 2.98, 3.47, 3.26, 3.2, 3.19, 2.65, 3, 3.39, 2.58])\n",
    "\n",
    "# Calculations for the machine packing times\n",
    "# Assuming equal variances for a pooled two-sample t-test\n",
    "mean_new = np.mean(new_machine)\n",
    "mean_old = np.mean(old_machine)\n",
    "std_new = np.std(new_machine, ddof=1)\n",
    "std_old = np.std(old_machine, ddof=1)\n",
    "n_new = len(new_machine)\n",
    "n_old = len(old_machine)\n",
    "\n",
    "sp = np.sqrt(((n_new - 1) * std_new**2 + (n_old - 1) * std_old**2) / (n_new + n_old - 2))\n",
    "t_stat_machine = (mean_new - mean_old) / (sp * np.sqrt(1/n_new + 1/n_old))\n",
    "df_machine = n_new + n_old - 2\n",
    "\n",
    "# Calculations for the student GPAs\n",
    "mean_soph = np.mean(sophomores)\n",
    "mean_jun = np.mean(juniors)\n",
    "std_soph = np.std(sophomores, ddof=1)\n",
    "std_jun = np.std(juniors, ddof=1)\n",
    "n_soph = len(sophomores)\n",
    "n_jun = len(juniors)\n",
    "\n",
    "s = np.sqrt(std_soph**2 / n_soph + std_jun**2 / n_jun)\n",
    "t_stat_gpa = (mean_soph - mean_jun) / s\n",
    "df_gpa = ((std_soph**2 / n_soph + std_jun**2 / n_jun)**2) / \\\n",
    "         (((std_soph**2 / n_soph)**2 / (n_soph - 1)) + ((std_jun**2 / n_jun)**2 / (n_jun - 1)))\n",
    "\n",
    "t_stat_machine, df_machine, t_stat_gpa, df_gpa"
   ]
  },
  {
   "cell_type": "code",
   "execution_count": null,
   "metadata": {},
   "outputs": [],
   "source": []
  },
  {
   "cell_type": "code",
   "execution_count": null,
   "metadata": {},
   "outputs": [],
   "source": []
  },
  {
   "cell_type": "code",
   "execution_count": null,
   "metadata": {},
   "outputs": [],
   "source": []
  },
  {
   "cell_type": "code",
   "execution_count": null,
   "metadata": {},
   "outputs": [],
   "source": []
  },
  {
   "cell_type": "code",
   "execution_count": null,
   "metadata": {},
   "outputs": [],
   "source": []
  },
  {
   "cell_type": "code",
   "execution_count": null,
   "metadata": {},
   "outputs": [],
   "source": []
  }
 ],
 "metadata": {
  "kernelspec": {
   "display_name": "Python 3",
   "language": "python",
   "name": "python3"
  },
  "language_info": {
   "codemirror_mode": {
    "name": "ipython",
    "version": 3
   },
   "file_extension": ".py",
   "mimetype": "text/x-python",
   "name": "python",
   "nbconvert_exporter": "python",
   "pygments_lexer": "ipython3",
   "version": "3.9.0"
  }
 },
 "nbformat": 4,
 "nbformat_minor": 2
}
